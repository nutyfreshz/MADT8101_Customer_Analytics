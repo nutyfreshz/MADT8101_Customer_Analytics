{
  "nbformat": 4,
  "nbformat_minor": 0,
  "metadata": {
    "colab": {
      "provenance": [],
      "authorship_tag": "ABX9TyOKPRU6goaMJVNfsHrji7sA",
      "include_colab_link": true
    },
    "kernelspec": {
      "name": "python3",
      "display_name": "Python 3"
    },
    "language_info": {
      "name": "python"
    }
  },
  "cells": [
    {
      "cell_type": "markdown",
      "metadata": {
        "id": "view-in-github",
        "colab_type": "text"
      },
      "source": [
        "<a href=\"https://colab.research.google.com/github/nutyfreshz/MADT8101_Customer_Analytics/blob/main/EP_1_Overview_of_Customer_Analytics.ipynb\" target=\"_parent\"><img src=\"https://colab.research.google.com/assets/colab-badge.svg\" alt=\"Open In Colab\"/></a>"
      ]
    },
    {
      "cell_type": "markdown",
      "source": [
        "# **1. Goals of customer analytics**"
      ],
      "metadata": {
        "id": "-P_sfg-IzWm5"
      }
    },
    {
      "cell_type": "markdown",
      "source": [
        "*   Increase net profit and sales revenue.\n",
        "*   Lower acquisition cost, retention cost, and other costs.\n",
        "*   Increase market share and satisfaction.\n",
        "*   Boost brand awareness and customer engagement.\n",
        "*   Strengthen relationships and deliver better experiences."
      ],
      "metadata": {
        "id": "maZzhD73zc1S"
      }
    },
    {
      "cell_type": "markdown",
      "source": [
        "## Traditional Consumer Behavior Models"
      ],
      "metadata": {
        "id": "PmI5aFrxz2k5"
      }
    },
    {
      "cell_type": "markdown",
      "source": [
        "**Learning Model** - Customers first satisfy basic needs before moving on to learned needs.\n",
        "\n",
        "**Psychoanalytical Model** - Purchases are driven by deep-rooted motives, both conscious and unconscious.\n",
        "\n",
        "**Sociological Model** - Purchases are influenced by an individual's place within societal groups.\n",
        "\n",
        "**Economic Model** - Consumers try to meet their needs while spending as few resources (e.g., money) as possible."
      ],
      "metadata": {
        "id": "E0LDGdcq0bFl"
      }
    },
    {
      "cell_type": "markdown",
      "source": [
        "## **Contemporary Consumer Behavior Models**"
      ],
      "metadata": {
        "id": "qfHO8jjo1Rff"
      }
    },
    {
      "cell_type": "markdown",
      "source": [
        "**Engel-Kollat-Blackwell (EKB) Model** - Outlines a five-stage decision process that consumers go through before purchasing a product or service.\n",
        "\n",
        "**Black Box Model** - Customers process internal and external stimuli to make purchase decisions.\n",
        "\n",
        "**Hawkins Stern Impulse Buying Model** - Purchases are not always the result of rational thought and can be influenced by different types of impulse buying.\n",
        "\n",
        "**Howard Sheth Model** - The buyer's journey is a highly rational and methodical decision-making process.\n",
        "\n",
        "**Nicosia Model** - Emphasizes the impact of the business' marketing messages on purchase decisions.\n",
        "\n",
        "**Webster and Wind Model** - A B2B buying behavior model that considers environmental, organizational, buying center, and individual variables that affect purchase decisions.\n"
      ],
      "metadata": {
        "id": "FmHltAFZ1g0d"
      }
    },
    {
      "cell_type": "markdown",
      "source": [
        "# **2. Customer Analytics Playbook**"
      ],
      "metadata": {
        "id": "CjbElWup1-CG"
      }
    },
    {
      "cell_type": "markdown",
      "source": [
        "## **Describe the entire characteristic of your customer base**\n"
      ],
      "metadata": {
        "id": "ZWGudn6P2Jzk"
      }
    },
    {
      "cell_type": "markdown",
      "source": [
        "**Example of Dimensions** - Demographic, Spending, Risk, Lifestyle, Loyalty, and Brand\n",
        "\n",
        "**Benefits:**\n",
        "* Gain a comprehensive understanding of your customer base, enabling you to tailor marketing efforts and communication to specific segments.\n",
        "\n",
        "*  Identify high-value customer segments and their preferences, allowing you to focus on the most profitable customer groups.\n",
        "\n",
        "* Improve customer targeting and personalization, leading to increased customer satisfaction and engagement."
      ],
      "metadata": {
        "id": "6t9O8qvj2X_G"
      }
    },
    {
      "cell_type": "markdown",
      "source": [
        "## Analyze Balance Contribution by Life Stages"
      ],
      "metadata": {
        "id": "jbjmDYg83NsK"
      }
    },
    {
      "cell_type": "markdown",
      "source": [
        "**Benefits:**\n",
        "\n",
        "* Identify the distribution of customers in different lifestages, such as new, existing, lapesed customer to develop targeted strategies for each lifestage to maximize customer retention and acquisition, leading to a balanced and sustainable customer base."
      ],
      "metadata": {
        "id": "WyhWwwRX3U09"
      }
    },
    {
      "cell_type": "markdown",
      "source": [
        "## **Up Spending Your Current Customers**"
      ],
      "metadata": {
        "id": "V5yX-eFy41mj"
      }
    },
    {
      "cell_type": "markdown",
      "source": [
        "**Benefits:**\n",
        "\n",
        "* Utilize the Spending Index to identify high spenders and allocate resources more efficiently to retain them.\n",
        "\n",
        "* Implement up-selling and cross-selling strategies to increase the average transaction value and encourage customers to explore other products or services.\n",
        "\n",
        "* Address the needs of customers who have stopped actively purchasing through Missing Items analysis, resulting in increased customer re-engagement and reactivation."
      ],
      "metadata": {
        "id": "btO-jIOU45eH"
      }
    },
    {
      "cell_type": "markdown",
      "source": [
        "## Segmentation"
      ],
      "metadata": {
        "id": "pRmlWow85aeE"
      }
    },
    {
      "cell_type": "markdown",
      "source": [
        "**Benefits:**\n",
        "\n",
        "* Grouping customers based on their customer lifetime value, product preferences, content preferences, responsiveness to campaigns and discounts, and likelihood to churn allows for targeted and personalized marketing efforts.\n",
        "\n",
        "* By understanding customer behavior and preferences, you can improve customer satisfaction, loyalty, and retention."
      ],
      "metadata": {
        "id": "S6CD9iId5e_J"
      }
    },
    {
      "cell_type": "markdown",
      "source": [
        "## **Customer Lifetime Value**"
      ],
      "metadata": {
        "id": "-LvhUwrl5e1K"
      }
    },
    {
      "cell_type": "markdown",
      "source": [
        "**Benefits:**\n",
        "\n",
        "* Implementing loyalty tiers and actions based on customer spending styles encourages repeat business and fosters long-term loyalty.\n",
        "\n",
        "* By prioritizing high CLV customers, you can allocate resources more effectively and maximize revenue generation."
      ],
      "metadata": {
        "id": "GOmlcAw75enQ"
      }
    },
    {
      "cell_type": "markdown",
      "source": [
        "## Product and Content Recommendations"
      ],
      "metadata": {
        "id": "ep-UWgeO5d9Y"
      }
    },
    {
      "cell_type": "markdown",
      "source": [
        "**Benefits:**\n",
        "\n",
        "* Personalized product and content recommendations enhance the customer experience, increasing the likelihood of repeat purchases and customer loyalty."
      ],
      "metadata": {
        "id": "roxil4TQ5d1r"
      }
    },
    {
      "cell_type": "markdown",
      "source": [
        "## Campaign, Discount, and Churn Scoring"
      ],
      "metadata": {
        "id": "6liaXQdh5dto"
      }
    },
    {
      "cell_type": "markdown",
      "source": [
        "**Benefits:**\n",
        "\n",
        "* Identifying good matches between customers and campaigns, discounts, and preventive measures helps optimize marketing efforts and reduces customer churn.\n",
        "\n",
        "* More effective campaigns and discounts lead to increased customer engagement, conversion rates, and overall revenue."
      ],
      "metadata": {
        "id": "OWdfiaNP5dkX"
      }
    },
    {
      "cell_type": "markdown",
      "source": [
        "## **Onboarding New Customers and Reactivating Lost Customers**"
      ],
      "metadata": {
        "id": "AQExc0D35dbA"
      }
    },
    {
      "cell_type": "markdown",
      "source": [
        "**Benefits:**\n",
        "\n",
        "* Profiling and introducing new customers to relevant segments during the onboarding process create a positive and personalized experience, setting the stage for long-term relationships.\n",
        "\n",
        "* By segmenting lost customers based on their likelihood to respond to different strategies, you can tailor reactivation efforts and win back valuable customers."
      ],
      "metadata": {
        "id": "_H_YVaFz5dRs"
      }
    },
    {
      "cell_type": "markdown",
      "source": [
        "# **Summary**"
      ],
      "metadata": {
        "id": "4_1k_u9F5dIs"
      }
    },
    {
      "cell_type": "markdown",
      "source": [
        "**Concepts related to customer analytics**\n",
        "* Customer analytics involves analyzing customer data to understand behavior, preferences, and interactions. Key concepts include customer behavior models, segmentation, customer lifetime value, up-selling, cross-selling, churn analysis, personalization, and customer journey mapping.\n",
        "\n",
        "**Analytics techniques important to customer analytics**\n",
        "\n",
        "* To leverage customer data effectively, businesses use discount scoring, product recommendation, churn scoring, customer profiling, campaign scoring, CLV analysis, segmentation, and measuring customer engagement for data-driven decisions and enhanced customer experiences."
      ],
      "metadata": {
        "id": "HPLV1XV05c_Q"
      }
    }
  ]
}